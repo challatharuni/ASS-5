{
  "nbformat": 4,
  "nbformat_minor": 0,
  "metadata": {
    "colab": {
      "provenance": [],
      "authorship_tag": "ABX9TyPZV/KzPr5hU1B6YXpHIduk",
      "include_colab_link": true
    },
    "kernelspec": {
      "name": "python3",
      "display_name": "Python 3"
    },
    "language_info": {
      "name": "python"
    }
  },
  "cells": [
    {
      "cell_type": "markdown",
      "metadata": {
        "id": "view-in-github",
        "colab_type": "text"
      },
      "source": [
        "<a href=\"https://colab.research.google.com/github/challatharuni/ASS-5/blob/main/ASS_5.ipynb\" target=\"_parent\"><img src=\"https://colab.research.google.com/assets/colab-badge.svg\" alt=\"Open In Colab\"/></a>"
      ]
    },
    {
      "cell_type": "code",
      "execution_count": 2,
      "metadata": {
        "colab": {
          "base_uri": "https://localhost:8080/"
        },
        "id": "S4LM-N_fi9SL",
        "outputId": "a0ad4ca8-95b3-4ce6-9017-dd5cfbe81b3e"
      },
      "outputs": [
        {
          "output_type": "stream",
          "name": "stdout",
          "text": [
            "Enter the text: This is python programming \n",
            "this: 1\n",
            "is: 1\n",
            "python: 1\n",
            "programming: 1\n"
          ]
        }
      ],
      "source": [
        "from collections import Counter\n",
        "\n",
        "def calculate_word_frequency(text):\n",
        "    # Convert the text to lowercase and split into words\n",
        "    words = text.lower().split()\n",
        "\n",
        "    # Remove punctuation from each word\n",
        "    words = [word.strip(\",.!?;:\\\"'()[]{}\") for word in words]\n",
        "\n",
        "    # Count the frequency of each word\n",
        "    word_counts = Counter(words)\n",
        "\n",
        "    # Print the words and their corresponding counts\n",
        "    for word, count in word_counts.items():\n",
        "        print(f\"{word}: {count}\")\n",
        "\n",
        "# Input text\n",
        "text = input(\"Enter the text: \")\n",
        "\n",
        "# Calculate and display word frequency\n",
        "calculate_word_frequency(text)\n"
      ]
    },
    {
      "cell_type": "code",
      "source": [],
      "metadata": {
        "id": "H_zRxaWPjA4r"
      },
      "execution_count": null,
      "outputs": []
    }
  ]
}